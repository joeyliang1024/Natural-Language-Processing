{
 "cells": [
  {
   "cell_type": "markdown",
   "id": "a54b0508-5b59-4713-a535-feb5a2aa0cbb",
   "metadata": {},
   "source": [
    "# Libraries"
   ]
  },
  {
   "cell_type": "code",
   "execution_count": 1,
   "id": "63b701b8-988c-4d18-9661-c3d3d276e42a",
   "metadata": {
    "tags": []
   },
   "outputs": [],
   "source": [
    "import torch\n",
    "import torch.nn as nn\n",
    "import torch.nn.functional as F\n",
    "import torch.optim as optim\n",
    "from tqdm import tqdm\n",
    "import numpy as np\n",
    "import matplotlib.pyplot as plt\n",
    "import re\n",
    "from datetime import datetime as dt"
   ]
  },
  {
   "cell_type": "markdown",
   "id": "60328c51-1df7-4d2c-a030-17b4289438ba",
   "metadata": {},
   "source": [
    "# Parameters"
   ]
  },
  {
   "cell_type": "code",
   "execution_count": 2,
   "id": "9ea247dd-70e3-4dbd-9739-2b0ba594025c",
   "metadata": {},
   "outputs": [],
   "source": [
    "TRAIN_PATH = 'data/train.txt'\n",
    "DEV_PATH = 'data/dev.txt'\n",
    "TEST_PATH = 'data/test-submit.txt'\n",
    "EMBEDDINGS_PATH = 'embeddings/glove.twitter.27B.200d.txt'\n",
    "EMBEDDING_DIM = 200\n",
    "HIDDEN_DIM = 200\n",
    "BATCH_SIZE = 64\n",
    "EPOCHS =20"
   ]
  },
  {
   "cell_type": "markdown",
   "id": "989f5de5-6bf7-4e14-b3cb-2f8fe0dc1f49",
   "metadata": {},
   "source": [
    "# Load data"
   ]
  },
  {
   "cell_type": "code",
   "execution_count": 3,
   "id": "3eaf1eb9-bc83-424d-be7e-111f01fa51fb",
   "metadata": {},
   "outputs": [
    {
     "name": "stderr",
     "output_type": "stream",
     "text": [
      "100%|██████████████████████████████| 1193514/1193514 [00:31<00:00, 37900.07it/s]\n"
     ]
    }
   ],
   "source": [
    "def load_embedding_dict(vec_path):\n",
    "    embeddings_index = dict()\n",
    "    with open(vec_path, 'r', encoding='UTF-8') as file:\n",
    "        for line in tqdm(file.readlines()):\n",
    "            values = line.split()\n",
    "            word = values[0]\n",
    "            coefs = np.asarray(values[1:], dtype='float32')\n",
    "            embeddings_index[word] = coefs\n",
    "\n",
    "    return embeddings_index\n",
    "glove = load_embedding_dict(EMBEDDINGS_PATH)"
   ]
  },
  {
   "cell_type": "code",
   "execution_count": 4,
   "id": "2cfcad4b-39b4-45d1-9548-bd8f9c77427b",
   "metadata": {},
   "outputs": [
    {
     "name": "stdout",
     "output_type": "stream",
     "text": [
      "-0.29736\n"
     ]
    },
    {
     "data": {
      "text/plain": [
       "array([-0.57305  , -0.39627  ,  0.11851  ,  0.16625  ,  0.20137  ,\n",
       "        0.15891  ,  0.27938  , -0.078399 , -0.12866  ,  0.21086  ,\n",
       "        0.10652  , -0.45356  , -0.60928  , -0.44878  , -0.10511  ,\n",
       "        0.32838  , -0.088057 ,  0.051537 ,  0.46852  , -0.13936  ,\n",
       "       -0.71007  , -0.65363  ,  0.23445  , -0.19538  ,  0.6608   ,\n",
       "        0.1313   , -0.045464 ,  0.43522  , -0.96466  ,  0.18855  ,\n",
       "        0.93414  ,  0.68161  , -0.64802  ,  0.059672 , -0.69549  ,\n",
       "       -0.31669  , -0.48399  , -0.63895  , -0.35644  ,  0.14326  ,\n",
       "        0.79823  ,  0.41653  , -0.10187  ,  0.17715  , -0.20817  ,\n",
       "       -0.47895  ,  0.36954  ,  0.4828   ,  0.37621  , -0.3492   ,\n",
       "       -0.089045 ,  0.40169  , -0.8378   ,  0.19303  , -0.16941  ,\n",
       "        0.2664   ,  0.49512  , -0.20796  ,  0.69913  ,  0.43428  ,\n",
       "        0.15835  ,  0.38629  ,  0.24039  ,  0.031994 , -0.14381  ,\n",
       "        0.52596  ,  0.28369  , -0.27033  ,  0.22807  ,  0.23541  ,\n",
       "       -0.39603  , -0.31054  , -0.78715  , -0.71227  , -0.029253 ,\n",
       "        0.24174  , -0.44296  , -0.836    ,  0.064297 , -0.94075  ,\n",
       "       -0.18824  , -0.16903  ,  0.5849   , -0.0074337,  0.626    ,\n",
       "       -0.49226  , -0.71578  ,  0.35292  , -0.21006  , -0.24776  ,\n",
       "        0.57754  , -0.27919  ,  0.70211  ,  0.039619 ,  0.34539  ,\n",
       "       -0.14673  , -0.81167  ,  0.68231  ,  0.52827  , -0.52141  ,\n",
       "       -0.69099  , -0.75099  ,  0.11661  ,  0.98226  ,  0.35352  ,\n",
       "       -0.11707  ,  0.45133  ,  0.69767  ,  0.19557  , -0.364    ,\n",
       "       -0.035521 , -0.71357  , -0.83975  ,  0.20347  , -0.039052 ,\n",
       "       -0.63665  , -0.4491   , -0.16223  ,  0.51879  , -0.7832   ,\n",
       "        0.0896   , -0.037932 ,  0.23763  , -0.51888  , -0.17253  ,\n",
       "       -0.014441 , -0.5044   ,  0.26391  , -0.53308  ,  0.92899  ,\n",
       "        0.043442 , -0.17849  , -0.24523  , -0.45531  , -0.069423 ,\n",
       "       -0.21187  , -0.41407  , -0.090711 , -0.34815  ,  0.1754   ,\n",
       "       -0.21396  , -0.13499  , -0.64721  , -0.3795   , -0.14429  ,\n",
       "       -0.30074  ,  0.61857  , -0.065655 , -0.14137  ,  0.45494  ,\n",
       "        0.26353  , -1.1331   ,  1.0426   , -0.027096 ,  0.23131  ,\n",
       "        0.32532  , -0.25335  , -0.34065  ,  0.28641  , -0.25686  ,\n",
       "       -1.1398   ,  0.22298  , -0.2051   , -0.48052  , -0.065082 ,\n",
       "       -0.32023  , -0.045533 ,  0.093544 , -0.28296  , -0.34975  ,\n",
       "        0.19851  ,  0.0086796,  0.12968  ,  0.96043  ,  0.4946   ,\n",
       "        0.47144  , -0.10981  ,  0.67961  , -0.42269  ,  0.23401  ,\n",
       "        0.38641  , -0.18864  , -0.8254   , -0.098215 , -0.27643  ,\n",
       "       -0.17081  ,  0.30223  , -0.62112  , -0.2338   , -0.39195  ,\n",
       "       -0.049065 , -0.28386  ,  0.24707  , -0.13131  , -0.33601  ,\n",
       "       -0.92245  , -0.32083  , -0.28469  , -0.43977  ], dtype=float32)"
      ]
     },
     "execution_count": 4,
     "metadata": {},
     "output_type": "execute_result"
    }
   ],
   "source": [
    "for word, key in zip(glove.keys(),glove.values()):\n",
    "    if key.shape!= (200,):\n",
    "        print(word)\n",
    "        to_be_pop = word\n",
    "glove.pop(to_be_pop)"
   ]
  },
  {
   "cell_type": "code",
   "execution_count": 5,
   "id": "63ac9f0f-6f56-4d52-9615-0f35328558a2",
   "metadata": {},
   "outputs": [
    {
     "data": {
      "text/plain": [
       "array([ 3.4141e-01, -3.4142e-02,  1.6430e-01, -1.1149e-01,  1.4907e-01,\n",
       "        5.2641e-01, -5.5042e-01,  3.5677e-01,  7.6170e-02,  4.8959e-01,\n",
       "        1.0042e-01,  1.1230e-02, -2.4007e-02,  4.5353e-01, -6.1272e-01,\n",
       "       -3.6067e-01,  8.1092e-02,  5.3523e-02, -5.0394e-01, -2.9240e-01,\n",
       "       -5.7961e-01, -1.0894e-01,  3.2228e-01, -6.6214e-01,  7.6865e-01,\n",
       "       -9.1760e-01, -4.0324e-01, -4.0874e-01,  4.7189e-01,  4.5127e-01,\n",
       "       -7.4173e-01, -2.5656e-01, -3.0706e-02,  4.2865e-01,  1.1332e-01,\n",
       "        3.0713e-01, -5.9145e-01, -1.7659e-01, -2.7424e-01, -3.0740e-01,\n",
       "       -1.5549e+00, -3.1463e-02, -4.5362e-01,  2.1363e-01,  6.0165e-02,\n",
       "       -9.3882e-01, -1.0469e-01, -9.5571e-01,  2.5844e-02, -3.5980e-01,\n",
       "       -9.9932e-01, -6.4337e-01, -7.5182e-02,  3.9789e-01,  3.9114e-01,\n",
       "        6.0404e-01, -2.3148e-01, -2.5137e-01,  1.2141e-01,  5.5073e-01,\n",
       "        1.0099e-01, -8.1369e-01, -2.6309e-01, -4.7742e-01, -2.9244e-01,\n",
       "        2.2078e-01,  1.3067e-01, -5.6455e-01,  2.8965e-01, -5.0702e-01,\n",
       "        1.9507e-01,  9.8538e-03, -2.3272e-03,  1.6265e-01, -1.6735e-01,\n",
       "       -5.5663e-01, -1.0588e+00,  1.2142e-02,  7.5441e-02, -3.6721e-01,\n",
       "        9.0286e-01,  1.3488e-01, -3.3865e-01,  1.0883e-01,  8.1018e-01,\n",
       "        2.9158e-01, -3.9147e-01,  7.9622e-01, -1.7528e-01,  4.3568e-01,\n",
       "       -1.2246e-02,  7.8940e-02, -4.8057e-01, -1.1744e-01,  3.0691e-01,\n",
       "       -2.4033e-01,  3.0442e-01, -5.1716e-01,  4.5696e-01,  2.3968e-01,\n",
       "        6.8775e-03, -2.8115e-01,  5.7049e-01,  1.0944e+00,  4.5300e-01,\n",
       "       -1.0036e-01,  1.3762e-01,  1.5225e-01,  3.6150e-01,  2.1353e-01,\n",
       "        2.1592e-01,  6.8226e-02, -1.3299e-01, -4.7216e-01,  5.7087e-01,\n",
       "        2.3083e-01, -3.5173e-01,  1.7510e-01, -1.9685e-01,  9.8858e-02,\n",
       "       -5.1604e-01, -1.1148e-01, -1.0986e-01, -2.7537e-01, -3.0136e-02,\n",
       "       -1.2766e-01,  4.4728e-01,  8.5526e-01, -6.5846e-01,  7.2309e-01,\n",
       "       -2.3411e-01, -1.4079e-01,  9.3215e-01, -3.0494e-02,  6.5349e-01,\n",
       "       -5.7638e-01, -3.4464e-01, -4.2594e-01, -2.4862e-01,  1.4010e-01,\n",
       "        4.6219e-01, -9.2070e-01, -5.0109e-01,  3.2810e-01,  4.1702e-01,\n",
       "       -5.0236e-01,  2.7027e-01, -6.3144e-01, -1.1099e-01,  2.7019e-01,\n",
       "       -6.3941e-01,  2.0188e-01, -4.2272e+00,  4.4045e-01,  2.0809e-01,\n",
       "        8.8974e-02, -1.9732e-02, -1.3116e-01, -8.8394e-02, -4.2187e-01,\n",
       "        2.4461e-01,  1.3886e-01,  4.8632e-01,  1.0033e-01, -3.5938e-01,\n",
       "       -2.7594e-01,  5.8560e-01, -1.1657e-01,  5.0369e-01, -4.4761e-02,\n",
       "        5.9573e-02, -1.6305e-01, -1.6330e-01,  3.8559e-01, -3.6545e-01,\n",
       "        6.8706e-01, -4.0516e-01,  3.4901e-01,  8.1180e-01,  7.0000e-01,\n",
       "        1.9117e-01,  3.5478e-01, -5.2714e-01, -8.4407e-01, -1.8233e-01,\n",
       "       -4.2864e-02,  3.3879e-02,  5.9233e-02, -6.7753e-02, -3.8660e-02,\n",
       "        3.3991e-01, -2.0610e-01, -3.6821e-01,  7.3563e-02, -8.1250e-01,\n",
       "        3.4531e-01, -5.5762e-01,  3.1483e-01,  4.2309e-02,  1.2084e+00],\n",
       "      dtype=float32)"
      ]
     },
     "execution_count": 5,
     "metadata": {},
     "output_type": "execute_result"
    }
   ],
   "source": [
    "'''\n",
    "<user>\n",
    "<repeat>\n",
    "<hashtag>\n",
    "<number>\n",
    "<url>\n",
    "<allcaps>\n",
    "<elong>\n",
    "'''\n",
    "glove[\"<number>\"]"
   ]
  },
  {
   "cell_type": "code",
   "execution_count": 6,
   "id": "68cea691-1325-4eed-ac3b-867aca47f473",
   "metadata": {},
   "outputs": [],
   "source": [
    "def clean_text(word):\n",
    "    word = word.lower()\n",
    "    word = re.sub(\"http\\S+|www\\S+\", \"<url>\", word)\n",
    "    word = re.sub(\"@\\S+\", \"<user>\", word)\n",
    "    word = re.sub(\"#\\S+\", \"<hashtag>\", word)\n",
    "    #word = re.sub(\"^[0-9]+$\",\"<number>\",word)\n",
    "    return word"
   ]
  },
  {
   "cell_type": "code",
   "execution_count": 7,
   "id": "e7aecb95-e8e4-4b35-91b8-657470ac464a",
   "metadata": {},
   "outputs": [],
   "source": [
    "def read_data_from_txt(path):\n",
    "    sentences = []\n",
    "    sentence = []\n",
    "    with open(path, 'r', encoding='utf-8') as file:\n",
    "        for line in file:\n",
    "            if line !=\"\\n\":\n",
    "                splitted = line.split()\n",
    "                word = splitted[0]\n",
    "                entity = splitted[-1]\n",
    "                word = clean_text(word)\n",
    "                sentence.append((word, entity))\n",
    "            else:\n",
    "                sentences.append(sentence)\n",
    "                sentence = []\n",
    "        return sentences\n",
    "    \n",
    "def read_test_data_from_txt(path):\n",
    "    sentences = []\n",
    "    sentence = []\n",
    "    with open(path, 'r', encoding='utf-8') as file:\n",
    "        for line in file:\n",
    "            if line !=\"\\n\":\n",
    "                splitted = line.split()\n",
    "                word = splitted[0]\n",
    "                entity = None\n",
    "                word = clean_text(word)\n",
    "                sentence.append((word, entity))\n",
    "            else:\n",
    "                sentences.append(sentence)\n",
    "                sentence = []\n",
    "        return sentences"
   ]
  },
  {
   "cell_type": "code",
   "execution_count": 8,
   "id": "e52ed354-583f-46ce-9c7a-d86f79e49f01",
   "metadata": {},
   "outputs": [],
   "source": [
    "train_sentences = read_data_from_txt(TRAIN_PATH)\n",
    "val_sentences = read_data_from_txt(DEV_PATH)\n",
    "test_sentences = read_test_data_from_txt(TEST_PATH) "
   ]
  },
  {
   "cell_type": "code",
   "execution_count": 9,
   "id": "54771f45-f0e4-49d5-b9d8-2c41fc2c187f",
   "metadata": {},
   "outputs": [
    {
     "name": "stdout",
     "output_type": "stream",
     "text": [
      "2394\n"
     ]
    }
   ],
   "source": [
    "print(len(train_sentences))"
   ]
  },
  {
   "cell_type": "code",
   "execution_count": 10,
   "id": "434a2391-f68d-4803-9fd7-2f55bdc47781",
   "metadata": {},
   "outputs": [
    {
     "name": "stdout",
     "output_type": "stream",
     "text": [
      "sentence max length: 41\n"
     ]
    }
   ],
   "source": [
    "max_len = 0 \n",
    "for sen in val_sentences:\n",
    "    length = len(sen)\n",
    "    if length >= max_len:\n",
    "        max_len = length\n",
    "for sen in train_sentences:\n",
    "    length = len(sen)\n",
    "    if length >= max_len:\n",
    "        max_len = length\n",
    "print(f\"sentence max length: {max_len}\")"
   ]
  },
  {
   "cell_type": "markdown",
   "id": "92ea0f0e-266b-419f-8673-2988c112d467",
   "metadata": {},
   "source": [
    "# Indexer(word or tag <--> index)"
   ]
  },
  {
   "cell_type": "code",
   "execution_count": 11,
   "id": "d391d1e5-ad02-4f6e-9f6d-f21286618640",
   "metadata": {},
   "outputs": [],
   "source": [
    "class Indexer:\n",
    "    def __init__(self, elements, index):\n",
    "        if index:  # word_dict\n",
    "            self._element_to_index = {\"<PAD>\": 0, \"<UNK>\": 1}\n",
    "        else:      # tag_dict\n",
    "            self._element_to_index = {\"<PAD LABEL>\":0}\n",
    "        for x in elements:\n",
    "            if x not in self._element_to_index:\n",
    "                self._element_to_index[x] = len(self._element_to_index)\n",
    "\n",
    "        self._index_to_element = {v: k for k,v in self._element_to_index.items()}\n",
    "\n",
    "    def get_element_to_index_dict(self):\n",
    "        return self._element_to_index\n",
    "\n",
    "    def element_to_index(self, element):\n",
    "        return self._element_to_index.get(element, 0)\n",
    "\n",
    "    def index_to_element(self, index):\n",
    "        return self._index_to_element[index]\n",
    "\n",
    "    def elements_to_index(self, elements):\n",
    "        return [self.element_to_index(x) for x in elements]\n",
    "\n",
    "    def indexes_to_elements(self, indexes):\n",
    "        return [self.index_to_element(x) for x in indexes]\n",
    "\n",
    "    def size(self):\n",
    "        return len(self._element_to_index)"
   ]
  },
  {
   "cell_type": "code",
   "execution_count": 12,
   "id": "df75dc80-f954-41af-a5a9-88412defb5af",
   "metadata": {},
   "outputs": [],
   "source": [
    "words = []\n",
    "tags = [] \n",
    "for sentence in train_sentences:\n",
    "    for word, tag in sentence:\n",
    "        words.append(word)\n",
    "        tags.append(tag)\n",
    "for extra_word in glove.keys():\n",
    "    words.append(extra_word)\n",
    "words = list(set(words))"
   ]
  },
  {
   "cell_type": "code",
   "execution_count": 13,
   "id": "867541b6-ec46-4903-99ce-e1facf713b13",
   "metadata": {},
   "outputs": [],
   "source": [
    "words_indexer = Indexer(words, True)\n",
    "tags_indexer = Indexer(tags, False)"
   ]
  },
  {
   "cell_type": "code",
   "execution_count": 14,
   "id": "45b2354a-7f7f-4c63-ac3c-a70305df301c",
   "metadata": {},
   "outputs": [
    {
     "name": "stdout",
     "output_type": "stream",
     "text": [
      "0\n",
      "<PAD>\n",
      "1194685\n"
     ]
    }
   ],
   "source": [
    "print(words_indexer.element_to_index(\"<PAD>\"))\n",
    "print(words_indexer.index_to_element(0))\n",
    "print(words_indexer.size())"
   ]
  },
  {
   "cell_type": "code",
   "execution_count": 15,
   "id": "7df83c65-2ea9-43d3-a570-4e58446a8ba0",
   "metadata": {},
   "outputs": [
    {
     "data": {
      "text/plain": [
       "[0, 1, 2, 3, 4, 5, 6, 7, 8, 9, 10, 11, 12, 13, 14, 15, 16, 17, 18, 19, 20, 21]"
      ]
     },
     "execution_count": 15,
     "metadata": {},
     "output_type": "execute_result"
    }
   ],
   "source": [
    "labels = [x for x in tags_indexer.get_element_to_index_dict().values()]\n",
    "labels"
   ]
  },
  {
   "cell_type": "markdown",
   "id": "7d40cdbd-2edb-45fb-b558-9268a1dbad1b",
   "metadata": {},
   "source": [
    "# Pad the sentence"
   ]
  },
  {
   "cell_type": "code",
   "execution_count": 16,
   "id": "d8994b60-0688-445e-aa07-eaafb3df1544",
   "metadata": {},
   "outputs": [
    {
     "name": "stderr",
     "output_type": "stream",
     "text": [
      "2022-10-27 14:56:10.851178: I tensorflow/core/platform/cpu_feature_guard.cc:193] This TensorFlow binary is optimized with oneAPI Deep Neural Network Library (oneDNN) to use the following CPU instructions in performance-critical operations:  AVX2 AVX512F FMA\n",
      "To enable them in other operations, rebuild TensorFlow with the appropriate compiler flags.\n",
      "2022-10-27 14:56:11.038782: E tensorflow/stream_executor/cuda/cuda_blas.cc:2981] Unable to register cuBLAS factory: Attempting to register factory for plugin cuBLAS when one has already been registered\n",
      "2022-10-27 14:56:11.718361: W tensorflow/stream_executor/platform/default/dso_loader.cc:64] Could not load dynamic library 'libnvinfer.so.7'; dlerror: libnvinfer.so.7: cannot open shared object file: No such file or directory; LD_LIBRARY_PATH: /usr/local/cuda/lib64:/usr/local/cuda/lib64:\n",
      "2022-10-27 14:56:11.718426: W tensorflow/stream_executor/platform/default/dso_loader.cc:64] Could not load dynamic library 'libnvinfer_plugin.so.7'; dlerror: libnvinfer_plugin.so.7: cannot open shared object file: No such file or directory; LD_LIBRARY_PATH: /usr/local/cuda/lib64:/usr/local/cuda/lib64:\n",
      "2022-10-27 14:56:11.718435: W tensorflow/compiler/tf2tensorrt/utils/py_utils.cc:38] TF-TRT Warning: Cannot dlopen some TensorRT libraries. If you would like to use Nvidia GPU with TensorRT, please make sure the missing libraries mentioned above are installed properly.\n"
     ]
    }
   ],
   "source": [
    "# pad the sequence\n",
    "from keras_preprocessing.sequence import pad_sequences\n",
    "from tensorflow.keras.utils import to_categorical\n",
    "def encode_sentence(sentences):\n",
    "    X = []\n",
    "    Y = []\n",
    "    for sentence in sentences:\n",
    "        encode_sentence1 = []\n",
    "        encode_sentence2 = []\n",
    "        for word,tag in sentence:\n",
    "            # tags\n",
    "            encode_sentence2.append(tags_indexer.element_to_index(tag))\n",
    "            # words\n",
    "            if word not in words_indexer.get_element_to_index_dict():\n",
    "                encode_sentence1.append(words_indexer.element_to_index(\"<UNK>\"))\n",
    "            else:\n",
    "                encode_sentence1.append(words_indexer.element_to_index(word))\n",
    "        X.append(encode_sentence1)    \n",
    "        Y.append(encode_sentence2)\n",
    "        \n",
    "    X = pad_sequences(maxlen=max_len, sequences=X, padding=\"post\", value=words_indexer.element_to_index(\"<PAD>\"))\n",
    "    Y = pad_sequences(maxlen=max_len, sequences=Y, padding=\"post\", value=tags_indexer.element_to_index(\"<PAD LABEL>\"))\n",
    "    Y = [to_categorical(i, num_classes=tags_indexer.size()) for i in Y]\n",
    "    return X, Y\n",
    "train_X, train_Y = encode_sentence(train_sentences)\n",
    "val_X, val_Y = encode_sentence(val_sentences)\n",
    "test_X, _= encode_sentence(val_sentences)"
   ]
  },
  {
   "cell_type": "markdown",
   "id": "b61f3672-9afd-400f-bf80-ced9477ebe12",
   "metadata": {},
   "source": [
    "# Build word embedding"
   ]
  },
  {
   "cell_type": "code",
   "execution_count": 17,
   "id": "dd9ef499-b8f6-4fe4-b2e6-0d3db7e98cc9",
   "metadata": {},
   "outputs": [],
   "source": [
    "class Embedding:\n",
    "    def initialization(matrix, unknown_vector, word_indexer, embedding_dict):\n",
    "            for word, i in word_indexer.get_element_to_index_dict().items():\n",
    "                vector = unknown_vector\n",
    "                if word ==\"<PAD>\":\n",
    "                    vector = np.zeros(EMBEDDING_DIM)\n",
    "                if word in embedding_dict.keys():\n",
    "                    vector = embedding_dict[word]\n",
    "                elif word.lower() in embedding_dict.keys():\n",
    "                    vector = embedding_dict[word.lower()]\n",
    "                matrix[i] = vector\n",
    "            return matrix\n",
    "    EMBEDDING_Parameter = {\"parameters\": lambda matrix, unknown_vector, word_indexer, embedding_dict: Embedding.initialization(matrix, unknown_vector, word_indexer, embedding_dict)}\n",
    "    def get_embedding_layer(word_indexer, embedding_dict):\n",
    "        \n",
    "        matrix_len = word_indexer.size()\n",
    "        embedding_dim = next(iter(embedding_dict.values())).shape[0]\n",
    "        weights_matrix = np.zeros((matrix_len, embedding_dim))\n",
    "\n",
    "        unknown_vector = np.random.randn(EMBEDDING_DIM)\n",
    "        \n",
    "        weights_matrix = Embedding.EMBEDDING_Parameter[\"parameters\"](weights_matrix,\n",
    "                                                                           unknown_vector,\n",
    "                                                                           word_indexer,\n",
    "                                                                           embedding_dict)\n",
    "\n",
    "        embedding = nn.Embedding(matrix_len, embedding_dim)\n",
    "        embedding.load_state_dict({'weight': torch.from_numpy(weights_matrix)})\n",
    "\n",
    "        return embedding"
   ]
  },
  {
   "cell_type": "code",
   "execution_count": 18,
   "id": "538d8694-67e5-42bf-9808-68587bb76768",
   "metadata": {},
   "outputs": [
    {
     "data": {
      "text/plain": [
       "tensor([[0., 0., 0., 0., 0., 0., 0., 0., 0., 0., 0., 0., 0., 0., 0., 0., 0., 0., 0., 0., 0., 0., 0., 0.,\n",
       "         0., 0., 0., 0., 0., 0., 0., 0., 0., 0., 0., 0., 0., 0., 0., 0., 0., 0., 0., 0., 0., 0., 0., 0.,\n",
       "         0., 0., 0., 0., 0., 0., 0., 0., 0., 0., 0., 0., 0., 0., 0., 0., 0., 0., 0., 0., 0., 0., 0., 0.,\n",
       "         0., 0., 0., 0., 0., 0., 0., 0., 0., 0., 0., 0., 0., 0., 0., 0., 0., 0., 0., 0., 0., 0., 0., 0.,\n",
       "         0., 0., 0., 0., 0., 0., 0., 0., 0., 0., 0., 0., 0., 0., 0., 0., 0., 0., 0., 0., 0., 0., 0., 0.,\n",
       "         0., 0., 0., 0., 0., 0., 0., 0., 0., 0., 0., 0., 0., 0., 0., 0., 0., 0., 0., 0., 0., 0., 0., 0.,\n",
       "         0., 0., 0., 0., 0., 0., 0., 0., 0., 0., 0., 0., 0., 0., 0., 0., 0., 0., 0., 0., 0., 0., 0., 0.,\n",
       "         0., 0., 0., 0., 0., 0., 0., 0., 0., 0., 0., 0., 0., 0., 0., 0., 0., 0., 0., 0., 0., 0., 0., 0.,\n",
       "         0., 0., 0., 0., 0., 0., 0., 0.]], grad_fn=<EmbeddingBackward0>)"
      ]
     },
     "execution_count": 18,
     "metadata": {},
     "output_type": "execute_result"
    }
   ],
   "source": [
    "Embedding.get_embedding_layer(words_indexer, glove)(torch.tensor([0], dtype=torch.long))"
   ]
  },
  {
   "cell_type": "markdown",
   "id": "a85b8c64-88e2-48f7-b67e-ea7038564ab7",
   "metadata": {},
   "source": [
    "# Model"
   ]
  },
  {
   "cell_type": "code",
   "execution_count": 19,
   "id": "48c1e874-5570-4980-b820-8a62b6a15239",
   "metadata": {},
   "outputs": [],
   "source": [
    "import torch.nn as nn\n",
    "import torch.nn.functional as F\n",
    "\n",
    "class LSTMTagger(nn.Module):\n",
    "    def __init__(self, embedding_dim, hidden_dim, tagset_size):\n",
    "        super(LSTMTagger, self).__init__()\n",
    "        self.hidden_dim = hidden_dim\n",
    "\n",
    "        self.word_embeddings = Embedding.get_embedding_layer(words_indexer, glove)\n",
    "        \n",
    "        self.word_embeddings.weight.requires_grad = False\n",
    "        \n",
    "        self.dropout = nn.Dropout(p=0.2)\n",
    "        \n",
    "        self.lstm = nn.LSTM(embedding_dim, hidden_dim, num_layers=3, bidirectional = True) \n",
    "\n",
    "        self.hidden2tag = nn.Linear(2*hidden_dim, tagset_size)\n",
    "    \n",
    "    def forward(self, sentence):\n",
    "        embeds = self.word_embeddings(sentence) # (32,41,100)\n",
    "        embeds = self.dropout(embeds)\n",
    "        lstm_out, _ = self.lstm(embeds)         # (sequence length, batch size, input size) when batch_first=False\n",
    "        tag_space = self.hidden2tag(lstm_out.view(len(sentence),max_len, -1))\n",
    "        return tag_space"
   ]
  },
  {
   "cell_type": "code",
   "execution_count": 20,
   "id": "00898f60-9d97-4a85-a1f5-8a48a47eaa97",
   "metadata": {},
   "outputs": [],
   "source": [
    "model = LSTMTagger(EMBEDDING_DIM, HIDDEN_DIM, tags_indexer.size())"
   ]
  },
  {
   "cell_type": "code",
   "execution_count": 21,
   "id": "b7b28587-af3d-45c1-9b4b-66292a7e1f86",
   "metadata": {},
   "outputs": [
    {
     "name": "stdout",
     "output_type": "stream",
     "text": [
      "Input\n",
      "torch.Size([2, 41])\n",
      "tensor([[ 212710,  212710,  806543,  951973,  767858,  472011, 1136777,  347193,\n",
      "          109090,  574595,  201439,  803829,       0,       0,       0,       0,\n",
      "               0,       0,       0,       0,       0,       0,       0,       0,\n",
      "               0,       0,       0,       0,       0,       0,       0,       0,\n",
      "               0,       0,       0,       0,       0,       0,       0,       0,\n",
      "               0],\n",
      "        [ 989075,  571442, 1096391,  270009,  715636,  832717,  929743,  571442,\n",
      "         1050204,    4571,  715636,  767858,  587661, 1189608,   73175,  423623,\n",
      "          426048,  295802,  547141,  715636,  767858,  270009,  929743,  126925,\n",
      "          715636,  753330,  901036,  134816,  373569, 1189608,   73175,   87907,\n",
      "          929743,       0,       0,       0,       0,       0,       0,       0,\n",
      "               0]])\n",
      "Output\n",
      "torch.Size([2, 41])\n",
      "tensor([[1, 1, 1, 1, 1, 1, 1, 1, 1, 1, 1, 1, 0, 0, 0, 0, 0, 0, 0, 0, 0, 0, 0, 0,\n",
      "         0, 0, 0, 0, 0, 0, 0, 0, 0, 0, 0, 0, 0, 0, 0, 0, 0],\n",
      "        [1, 1, 1, 1, 1, 2, 1, 1, 1, 1, 1, 1, 1, 3, 4, 1, 1, 1, 1, 1, 1, 1, 1, 1,\n",
      "         1, 1, 1, 1, 1, 3, 4, 1, 1, 0, 0, 0, 0, 0, 0, 0, 0]])\n"
     ]
    },
    {
     "name": "stderr",
     "output_type": "stream",
     "text": [
      "/tmp/ipykernel_93880/1076164844.py:18: UserWarning: Creating a tensor from a list of numpy.ndarrays is extremely slow. Please consider converting the list to a single numpy.ndarray with numpy.array() before converting to a tensor. (Triggered internally at  /opt/conda/conda-bld/pytorch_1659484808560/work/torch/csrc/utils/tensor_new.cpp:201.)\n",
      "  loss = loss_function(tag_scores.transpose(1,2),torch.tensor(train_Y[0:2], dtype=torch.float32).transpose(1,2))\n"
     ]
    }
   ],
   "source": [
    "def get_tag_indexes_from_scores(scores):\n",
    "    import numpy as np\n",
    "    predicted = []\n",
    "    for sen in scores:\n",
    "        pred_word = []\n",
    "        for word in sen:\n",
    "            pred_word.append(int(np.argmax(word)))\n",
    "        predicted.append(pred_word)\n",
    "    return predicted        \n",
    "\n",
    "with torch.no_grad():\n",
    "    sentence_in = torch.tensor(train_X[0:2], dtype=torch.long)\n",
    "    print(\"Input\")\n",
    "    print(sentence_in.shape)\n",
    "    print(sentence_in)\n",
    "    tag_scores = model(sentence_in)\n",
    "    loss_function = nn.CrossEntropyLoss()\n",
    "    loss = loss_function(tag_scores.transpose(1,2),torch.tensor(train_Y[0:2], dtype=torch.float32).transpose(1,2))\n",
    "    output = get_tag_indexes_from_scores(torch.tensor(train_Y[0:2], dtype=torch.float32).detach().numpy())\n",
    "    output = torch.tensor(output, dtype=torch.long)\n",
    "    print(\"Output\")\n",
    "    print(output.shape)\n",
    "    print(output)"
   ]
  },
  {
   "cell_type": "markdown",
   "id": "8a5e7b5a-351d-432a-8f4e-67f1e6193dca",
   "metadata": {},
   "source": [
    "# Training"
   ]
  },
  {
   "cell_type": "code",
   "execution_count": 22,
   "id": "d4a787d2-c5e1-460b-916f-5a37afad01fc",
   "metadata": {},
   "outputs": [],
   "source": [
    "def save_model():\n",
    "    filename = f\"model/LSTMTagger-{dt.now().strftime('%Y-%m-%d-%H-%M-%S')}.pkl\"\n",
    "    best_state_dict = model.state_dict()\n",
    "    torch.save(best_state_dict, filename)\n",
    "    print(f\"save model at: {filename}\")"
   ]
  },
  {
   "cell_type": "code",
   "execution_count": 23,
   "id": "a7bd30be-1ac1-4846-9568-aeb52255b906",
   "metadata": {},
   "outputs": [],
   "source": [
    "def get_batched(words, labels, size):\n",
    "    for i in range(0, len(words), size):\n",
    "        yield (words[i:i + size], labels[i:i + size])\n",
    "\n",
    "def train_model(model, optimizer, loss_function, batch_size, word_indexer, tag_indexer, num_epochs=EPOCHS): \n",
    "    \n",
    "    losses = []\n",
    "    val_losses = []\n",
    "    accuracys = []\n",
    "    val_accuracys = []\n",
    "    batches = list(get_batched(train_X, train_Y, batch_size))\n",
    "    \n",
    "    for epoch in range(num_epochs):\n",
    "        \n",
    "        correct_predictions = 0\n",
    "        val_correct_predictions = 0\n",
    "        running_loss = 0.0\n",
    "        total = 0\n",
    "        val_total = 0\n",
    "        print('Epoch {}/{}'.format(epoch + 1, num_epochs))\n",
    "        print('=' * 40)\n",
    "        # train\n",
    "        for sentences, tags in tqdm(batches):\n",
    "            model.train()\n",
    "            optimizer.zero_grad()\n",
    "            sentence_in = torch.tensor(sentences, dtype=torch.long)\n",
    "            targets = torch.tensor(tags, dtype=torch.float32)\n",
    "            tag_scores = model(sentence_in)\n",
    "            # loss\n",
    "            loss = loss_function(tag_scores.transpose(1,2), targets.transpose(1,2))\n",
    "            running_loss += loss.item() * sentence_in.size(0)\n",
    "            loss.backward()\n",
    "            optimizer.step()\n",
    "            # accuracy\n",
    "            prediction = torch.tensor(get_tag_indexes_from_scores(tag_scores.detach().numpy()), dtype=torch.long)\n",
    "            label = torch.tensor(get_tag_indexes_from_scores(targets.detach().numpy()), dtype=torch.long)\n",
    "            correct_predictions += torch.sum(prediction == label)\n",
    "            total += torch.sum(prediction == prediction)\n",
    "        # evalution\n",
    "        with torch.no_grad(): \n",
    "            model.eval()\n",
    "            inputs = torch.tensor(val_X, dtype=torch.long)\n",
    "            val_targets = torch.tensor(val_Y, dtype=torch.float32)\n",
    "            val_tag_scores = model(inputs)\n",
    "            val_epoch_loss = loss_function(val_tag_scores.transpose(1,2), val_targets.transpose(1,2))\n",
    "            val_prediction = torch.tensor(get_tag_indexes_from_scores(val_tag_scores.detach().numpy()), dtype=torch.long)\n",
    "            val_label = torch.tensor(get_tag_indexes_from_scores(val_targets.detach().numpy()), dtype=torch.long)\n",
    "            val_correct_predictions += torch.sum(val_prediction == val_label)\n",
    "            val_total += torch.sum(val_prediction == val_prediction)\n",
    "            \n",
    "        accuracy = correct_predictions / total\n",
    "        val_accuracy = val_correct_predictions / val_total\n",
    "        epoch_loss = running_loss / (len(batches)*max_len)\n",
    "        losses.append(epoch_loss)    \n",
    "        val_losses.append(val_epoch_loss)\n",
    "        accuracys.append(accuracy)\n",
    "        val_accuracys.append(val_accuracy)\n",
    "        print(f'[train accuracy]: {accuracy}')    \n",
    "        print(f\"Loss per epoch - {epoch_loss}\")\n",
    "        print(\"-----------------------------------\")\n",
    "        print(f'[test accuracy]: {val_accuracy}')\n",
    "        print(f\"Loss per epoch - {val_epoch_loss}\")   \n",
    "        \n",
    "    return model, losses, val_losses, accuracys, val_accuracys"
   ]
  },
  {
   "cell_type": "code",
   "execution_count": 24,
   "id": "26457bb9-ce56-4142-9970-f9fa3b4c3768",
   "metadata": {},
   "outputs": [
    {
     "name": "stdout",
     "output_type": "stream",
     "text": [
      "Epoch 1/20\n",
      "========================================\n"
     ]
    },
    {
     "name": "stderr",
     "output_type": "stream",
     "text": [
      "100%|███████████████████████████████████████████| 38/38 [00:11<00:00,  3.40it/s]\n"
     ]
    },
    {
     "name": "stdout",
     "output_type": "stream",
     "text": [
      "[train accuracy]: 0.7989282011985779\n",
      "Loss per epoch - 1.287949312712629\n",
      "-----------------------------------\n",
      "[test accuracy]: 0.8862195014953613\n",
      "Loss per epoch - 0.40224331617355347\n",
      "Epoch 2/20\n",
      "========================================\n"
     ]
    },
    {
     "name": "stderr",
     "output_type": "stream",
     "text": [
      "100%|███████████████████████████████████████████| 38/38 [00:11<00:00,  3.37it/s]\n"
     ]
    },
    {
     "name": "stdout",
     "output_type": "stream",
     "text": [
      "[train accuracy]: 0.9340423941612244\n",
      "Loss per epoch - 0.4370189312563322\n",
      "-----------------------------------\n",
      "[test accuracy]: 0.9561463594436646\n",
      "Loss per epoch - 0.22564741969108582\n",
      "Epoch 3/20\n",
      "========================================\n"
     ]
    },
    {
     "name": "stderr",
     "output_type": "stream",
     "text": [
      "100%|███████████████████████████████████████████| 38/38 [00:10<00:00,  3.59it/s]\n"
     ]
    },
    {
     "name": "stdout",
     "output_type": "stream",
     "text": [
      "[train accuracy]: 0.9675509929656982\n",
      "Loss per epoch - 0.2875040738014875\n",
      "-----------------------------------\n",
      "[test accuracy]: 0.966560959815979\n",
      "Loss per epoch - 0.18849268555641174\n",
      "Epoch 4/20\n",
      "========================================\n"
     ]
    },
    {
     "name": "stderr",
     "output_type": "stream",
     "text": [
      "100%|███████████████████████████████████████████| 38/38 [00:10<00:00,  3.55it/s]\n"
     ]
    },
    {
     "name": "stdout",
     "output_type": "stream",
     "text": [
      "[train accuracy]: 0.9710862636566162\n",
      "Loss per epoch - 0.2565504433216577\n",
      "-----------------------------------\n",
      "[test accuracy]: 0.9689024686813354\n",
      "Loss per epoch - 0.17427471280097961\n",
      "Epoch 5/20\n",
      "========================================\n"
     ]
    },
    {
     "name": "stderr",
     "output_type": "stream",
     "text": [
      "100%|███████████████████████████████████████████| 38/38 [00:10<00:00,  3.62it/s]\n"
     ]
    },
    {
     "name": "stdout",
     "output_type": "stream",
     "text": [
      "[train accuracy]: 0.9733684062957764\n",
      "Loss per epoch - 0.22992902952073016\n",
      "-----------------------------------\n",
      "[test accuracy]: 0.9696097373962402\n",
      "Loss per epoch - 0.1620357185602188\n",
      "Epoch 6/20\n",
      "========================================\n"
     ]
    },
    {
     "name": "stderr",
     "output_type": "stream",
     "text": [
      "100%|███████████████████████████████████████████| 38/38 [00:10<00:00,  3.47it/s]\n"
     ]
    },
    {
     "name": "stdout",
     "output_type": "stream",
     "text": [
      "[train accuracy]: 0.974264919757843\n",
      "Loss per epoch - 0.21025747187024363\n",
      "-----------------------------------\n",
      "[test accuracy]: 0.9710975885391235\n",
      "Loss per epoch - 0.15335413813591003\n",
      "Epoch 7/20\n",
      "========================================\n"
     ]
    },
    {
     "name": "stderr",
     "output_type": "stream",
     "text": [
      "100%|███████████████████████████████████████████| 38/38 [00:10<00:00,  3.49it/s]\n"
     ]
    },
    {
     "name": "stdout",
     "output_type": "stream",
     "text": [
      "[train accuracy]: 0.9753448367118835\n",
      "Loss per epoch - 0.1978121303758358\n",
      "-----------------------------------\n",
      "[test accuracy]: 0.9716097712516785\n",
      "Loss per epoch - 0.14714831113815308\n",
      "Epoch 8/20\n",
      "========================================\n"
     ]
    },
    {
     "name": "stderr",
     "output_type": "stream",
     "text": [
      "100%|███████████████████████████████████████████| 38/38 [00:10<00:00,  3.46it/s]\n"
     ]
    },
    {
     "name": "stdout",
     "output_type": "stream",
     "text": [
      "[train accuracy]: 0.9766082167625427\n",
      "Loss per epoch - 0.18717102457760845\n",
      "-----------------------------------\n",
      "[test accuracy]: 0.9731951355934143\n",
      "Loss per epoch - 0.14296923577785492\n",
      "Epoch 9/20\n",
      "========================================\n"
     ]
    },
    {
     "name": "stderr",
     "output_type": "stream",
     "text": [
      "100%|███████████████████████████████████████████| 38/38 [00:10<00:00,  3.54it/s]\n"
     ]
    },
    {
     "name": "stdout",
     "output_type": "stream",
     "text": [
      "[train accuracy]: 0.9769545793533325\n",
      "Loss per epoch - 0.18286281348766809\n",
      "-----------------------------------\n",
      "[test accuracy]: 0.9732927083969116\n",
      "Loss per epoch - 0.14104098081588745\n",
      "Epoch 10/20\n",
      "========================================\n"
     ]
    },
    {
     "name": "stderr",
     "output_type": "stream",
     "text": [
      "100%|███████████████████████████████████████████| 38/38 [00:11<00:00,  3.36it/s]\n"
     ]
    },
    {
     "name": "stdout",
     "output_type": "stream",
     "text": [
      "[train accuracy]: 0.9772194623947144\n",
      "Loss per epoch - 0.17842126667346514\n",
      "-----------------------------------\n",
      "[test accuracy]: 0.973878026008606\n",
      "Loss per epoch - 0.13976171612739563\n",
      "Epoch 11/20\n",
      "========================================\n"
     ]
    },
    {
     "name": "stderr",
     "output_type": "stream",
     "text": [
      "100%|███████████████████████████████████████████| 38/38 [00:10<00:00,  3.58it/s]\n"
     ]
    },
    {
     "name": "stdout",
     "output_type": "stream",
     "text": [
      "[train accuracy]: 0.977463960647583\n",
      "Loss per epoch - 0.1746368649797048\n",
      "-----------------------------------\n",
      "[test accuracy]: 0.9736829400062561\n",
      "Loss per epoch - 0.13934394717216492\n",
      "Epoch 12/20\n",
      "========================================\n"
     ]
    },
    {
     "name": "stderr",
     "output_type": "stream",
     "text": [
      "100%|███████████████████████████████████████████| 38/38 [00:10<00:00,  3.46it/s]\n"
     ]
    },
    {
     "name": "stdout",
     "output_type": "stream",
     "text": [
      "[train accuracy]: 0.9777899980545044\n",
      "Loss per epoch - 0.17121271090880896\n",
      "-----------------------------------\n",
      "[test accuracy]: 0.9737073183059692\n",
      "Loss per epoch - 0.1389176994562149\n",
      "Epoch 13/20\n",
      "========================================\n"
     ]
    },
    {
     "name": "stderr",
     "output_type": "stream",
     "text": [
      "100%|███████████████████████████████████████████| 38/38 [00:10<00:00,  3.59it/s]\n"
     ]
    },
    {
     "name": "stdout",
     "output_type": "stream",
     "text": [
      "[train accuracy]: 0.9784623980522156\n",
      "Loss per epoch - 0.16745474761464324\n",
      "-----------------------------------\n",
      "[test accuracy]: 0.9744146466255188\n",
      "Loss per epoch - 0.13544243574142456\n",
      "Epoch 14/20\n",
      "========================================\n"
     ]
    },
    {
     "name": "stderr",
     "output_type": "stream",
     "text": [
      "100%|███████████████████████████████████████████| 38/38 [00:10<00:00,  3.54it/s]\n"
     ]
    },
    {
     "name": "stdout",
     "output_type": "stream",
     "text": [
      "[train accuracy]: 0.9789208769798279\n",
      "Loss per epoch - 0.1627323053518982\n",
      "-----------------------------------\n",
      "[test accuracy]: 0.9745122194290161\n",
      "Loss per epoch - 0.13524675369262695\n",
      "Epoch 15/20\n",
      "========================================\n"
     ]
    },
    {
     "name": "stderr",
     "output_type": "stream",
     "text": [
      "100%|███████████████████████████████████████████| 38/38 [00:10<00:00,  3.58it/s]\n"
     ]
    },
    {
     "name": "stdout",
     "output_type": "stream",
     "text": [
      "[train accuracy]: 0.9793691635131836\n",
      "Loss per epoch - 0.15822298680366387\n",
      "-----------------------------------\n",
      "[test accuracy]: 0.9748048782348633\n",
      "Loss per epoch - 0.13365936279296875\n",
      "Epoch 16/20\n",
      "========================================\n"
     ]
    },
    {
     "name": "stderr",
     "output_type": "stream",
     "text": [
      "100%|███████████████████████████████████████████| 38/38 [00:11<00:00,  3.44it/s]\n"
     ]
    },
    {
     "name": "stdout",
     "output_type": "stream",
     "text": [
      "[train accuracy]: 0.979695200920105\n",
      "Loss per epoch - 0.15388282156992938\n",
      "-----------------------------------\n",
      "[test accuracy]: 0.9743902683258057\n",
      "Loss per epoch - 0.13364258408546448\n",
      "Epoch 17/20\n",
      "========================================\n"
     ]
    },
    {
     "name": "stderr",
     "output_type": "stream",
     "text": [
      "100%|███████████████████████████████████████████| 38/38 [00:10<00:00,  3.60it/s]\n"
     ]
    },
    {
     "name": "stdout",
     "output_type": "stream",
     "text": [
      "[train accuracy]: 0.980347216129303\n",
      "Loss per epoch - 0.14853175620480283\n",
      "-----------------------------------\n",
      "[test accuracy]: 0.9748048782348633\n",
      "Loss per epoch - 0.1327984631061554\n",
      "Epoch 18/20\n",
      "========================================\n"
     ]
    },
    {
     "name": "stderr",
     "output_type": "stream",
     "text": [
      "100%|███████████████████████████████████████████| 38/38 [00:11<00:00,  3.41it/s]\n"
     ]
    },
    {
     "name": "stdout",
     "output_type": "stream",
     "text": [
      "[train accuracy]: 0.9806120991706848\n",
      "Loss per epoch - 0.14387940702450597\n",
      "-----------------------------------\n",
      "[test accuracy]: 0.9745609760284424\n",
      "Loss per epoch - 0.13398140668869019\n",
      "Epoch 19/20\n",
      "========================================\n"
     ]
    },
    {
     "name": "stderr",
     "output_type": "stream",
     "text": [
      "100%|███████████████████████████████████████████| 38/38 [00:10<00:00,  3.61it/s]\n"
     ]
    },
    {
     "name": "stdout",
     "output_type": "stream",
     "text": [
      "[train accuracy]: 0.9809686541557312\n",
      "Loss per epoch - 0.1416764447563573\n",
      "-----------------------------------\n",
      "[test accuracy]: 0.9749024510383606\n",
      "Loss per epoch - 0.1352238655090332\n",
      "Epoch 20/20\n",
      "========================================\n"
     ]
    },
    {
     "name": "stderr",
     "output_type": "stream",
     "text": [
      "100%|███████████████████████████████████████████| 38/38 [00:11<00:00,  3.39it/s]\n"
     ]
    },
    {
     "name": "stdout",
     "output_type": "stream",
     "text": [
      "[train accuracy]: 0.9811928272247314\n",
      "Loss per epoch - 0.13600201290746403\n",
      "-----------------------------------\n",
      "[test accuracy]: 0.9750000238418579\n",
      "Loss per epoch - 0.13527095317840576\n"
     ]
    }
   ],
   "source": [
    "loss_function = nn.CrossEntropyLoss()\n",
    "optimizer = optim.AdamW(model.parameters(), lr=1e-3)\n",
    "history = train_model(model,\n",
    "                      optimizer,\n",
    "                      loss_function, \n",
    "                      BATCH_SIZE, \n",
    "                      words_indexer, \n",
    "                      tags_indexer,  \n",
    "                      num_epochs=EPOCHS)\n",
    "#save_model()"
   ]
  },
  {
   "cell_type": "code",
   "execution_count": 25,
   "id": "2e25f715-dbee-479d-8388-58cb6e86a1f3",
   "metadata": {},
   "outputs": [
    {
     "data": {
      "image/png": "[encoded data removed]",
      "text/plain": [
       "<Figure size 640x480 with 1 Axes>"
      ]
     },
     "metadata": {},
     "output_type": "display_data"
    }
   ],
   "source": [
    "epochs = [i for i in range(EPOCHS)]\n",
    "plt.plot(epochs, history[1], label='train loss')\n",
    "plt.plot(epochs, history[2], label='val loss')\n",
    "plt.title('Training history')\n",
    "plt.ylabel('Loss')\n",
    "plt.xlabel('Epoch')\n",
    "plt.legend()\n",
    "plt.xlim([0, EPOCHS])\n",
    "plt.show()"
   ]
  },
  {
   "cell_type": "code",
   "execution_count": 26,
   "id": "688bdd89-6e2b-4702-b3ec-0b4360005873",
   "metadata": {},
   "outputs": [
    {
     "data": {
      "image/png": "[encoded data removed]",
      "text/plain": [
       "<Figure size 640x480 with 1 Axes>"
      ]
     },
     "metadata": {},
     "output_type": "display_data"
    }
   ],
   "source": [
    "plt.plot(epochs, history[3], label='train accuracy')\n",
    "plt.plot(epochs, history[4], label='val accuracy')\n",
    "plt.title('Training history')\n",
    "plt.ylabel('accuracy')\n",
    "plt.xlabel('Epoch')\n",
    "plt.legend()\n",
    "plt.xlim([0, EPOCHS])\n",
    "plt.show()"
   ]
  },
  {
   "cell_type": "markdown",
   "id": "58a10aaa-0c41-4ac2-9071-b8bc1098c23a",
   "metadata": {},
   "source": [
    "# Evaluation"
   ]
  },
  {
   "cell_type": "code",
   "execution_count": 27,
   "id": "2c5e3be1-0a8f-4bae-a7c1-a2fb9fb396a4",
   "metadata": {},
   "outputs": [],
   "source": [
    "def prediction(data, true_tags, test):\n",
    "    inputs = torch.tensor(data ,dtype=torch.long)\n",
    "    tag_scores = model(inputs)\n",
    "    idx = get_tag_indexes_from_scores(tag_scores.detach().numpy())\n",
    "    origin = [words_indexer.indexes_to_elements(index_list) for index_list in data]\n",
    "    tags_list = [tags_indexer.indexes_to_elements(index_list) for index_list in idx]\n",
    "    origin_word = []\n",
    "    pred_list = []\n",
    "    if test:    \n",
    "        for sentence, tags in zip(origin, tags_list):\n",
    "            for word, tag in zip(sentence, tags):\n",
    "                if word != \"<PAD>\":\n",
    "                    origin_word.append(word)\n",
    "                    if tag !=\"<PAD LABEL>\":\n",
    "                        pred_list.append(tag)\n",
    "                    else: \n",
    "                        pred_list.append(\"O\")\n",
    "        return origin_word, pred_list\n",
    "    \n",
    "    else:\n",
    "        origin_label = []\n",
    "        for sentence,trues, tags in zip(origin, true_tags, tags_list):\n",
    "            for word, true, tag in zip(sentence, trues, tags):\n",
    "                if word != \"<PAD>\":\n",
    "                    origin_word.append(word)\n",
    "                    origin_label.append(tags_indexer.index_to_element(np.argmax(true)))\n",
    "                    if tag !=\"<PAD LABEL>\":\n",
    "                        pred_list.append(tag)\n",
    "                    else: \n",
    "                        pred_list.append(\"O\")\n",
    "        return origin_word, pred_list, origin_label\n"
   ]
  },
  {
   "cell_type": "code",
   "execution_count": 28,
   "id": "e331d961-da36-4e5c-97cb-a7202fed6a91",
   "metadata": {},
   "outputs": [
    {
     "data": {
      "text/html": [
       "<div>\n",
       "<style scoped>\n",
       "    .dataframe tbody tr th:only-of-type {\n",
       "        vertical-align: middle;\n",
       "    }\n",
       "\n",
       "    .dataframe tbody tr th {\n",
       "        vertical-align: top;\n",
       "    }\n",
       "\n",
       "    .dataframe thead th {\n",
       "        text-align: right;\n",
       "    }\n",
       "</style>\n",
       "<table border=\"1\" class=\"dataframe\">\n",
       "  <thead>\n",
       "    <tr style=\"text-align: right;\">\n",
       "      <th></th>\n",
       "      <th>Word</th>\n",
       "      <th>True</th>\n",
       "      <th>Prediction</th>\n",
       "    </tr>\n",
       "  </thead>\n",
       "  <tbody>\n",
       "    <tr>\n",
       "      <th>0</th>\n",
       "      <td>stop</td>\n",
       "      <td>O</td>\n",
       "      <td>O</td>\n",
       "    </tr>\n",
       "    <tr>\n",
       "      <th>1</th>\n",
       "      <td>what</td>\n",
       "      <td>O</td>\n",
       "      <td>O</td>\n",
       "    </tr>\n",
       "    <tr>\n",
       "      <th>2</th>\n",
       "      <td>you're</td>\n",
       "      <td>O</td>\n",
       "      <td>O</td>\n",
       "    </tr>\n",
       "    <tr>\n",
       "      <th>3</th>\n",
       "      <td>doing</td>\n",
       "      <td>O</td>\n",
       "      <td>O</td>\n",
       "    </tr>\n",
       "    <tr>\n",
       "      <th>4</th>\n",
       "      <td>and</td>\n",
       "      <td>O</td>\n",
       "      <td>O</td>\n",
       "    </tr>\n",
       "    <tr>\n",
       "      <th>5</th>\n",
       "      <td>go</td>\n",
       "      <td>O</td>\n",
       "      <td>O</td>\n",
       "    </tr>\n",
       "    <tr>\n",
       "      <th>6</th>\n",
       "      <td>get</td>\n",
       "      <td>O</td>\n",
       "      <td>O</td>\n",
       "    </tr>\n",
       "    <tr>\n",
       "      <th>7</th>\n",
       "      <td>&lt;hashtag&gt;</td>\n",
       "      <td>O</td>\n",
       "      <td>O</td>\n",
       "    </tr>\n",
       "    <tr>\n",
       "      <th>8</th>\n",
       "      <td>on</td>\n",
       "      <td>O</td>\n",
       "      <td>O</td>\n",
       "    </tr>\n",
       "    <tr>\n",
       "      <th>9</th>\n",
       "      <td>itunes</td>\n",
       "      <td>B-other</td>\n",
       "      <td>O</td>\n",
       "    </tr>\n",
       "    <tr>\n",
       "      <th>10</th>\n",
       "      <td>because</td>\n",
       "      <td>O</td>\n",
       "      <td>O</td>\n",
       "    </tr>\n",
       "    <tr>\n",
       "      <th>11</th>\n",
       "      <td>it's</td>\n",
       "      <td>O</td>\n",
       "      <td>O</td>\n",
       "    </tr>\n",
       "    <tr>\n",
       "      <th>12</th>\n",
       "      <td>only</td>\n",
       "      <td>O</td>\n",
       "      <td>O</td>\n",
       "    </tr>\n",
       "    <tr>\n",
       "      <th>13</th>\n",
       "      <td>2nd</td>\n",
       "      <td>O</td>\n",
       "      <td>O</td>\n",
       "    </tr>\n",
       "    <tr>\n",
       "      <th>14</th>\n",
       "      <td>!!</td>\n",
       "      <td>O</td>\n",
       "      <td>O</td>\n",
       "    </tr>\n",
       "    <tr>\n",
       "      <th>15</th>\n",
       "      <td>&lt;user&gt;</td>\n",
       "      <td>O</td>\n",
       "      <td>O</td>\n",
       "    </tr>\n",
       "    <tr>\n",
       "      <th>16</th>\n",
       "      <td>shs</td>\n",
       "      <td>O</td>\n",
       "      <td>O</td>\n",
       "    </tr>\n",
       "  </tbody>\n",
       "</table>\n",
       "</div>"
      ],
      "text/plain": [
       "         Word     True Prediction\n",
       "0        stop        O          O\n",
       "1        what        O          O\n",
       "2      you're        O          O\n",
       "3       doing        O          O\n",
       "4         and        O          O\n",
       "5          go        O          O\n",
       "6         get        O          O\n",
       "7   <hashtag>        O          O\n",
       "8          on        O          O\n",
       "9      itunes  B-other          O\n",
       "10    because        O          O\n",
       "11       it's        O          O\n",
       "12       only        O          O\n",
       "13        2nd        O          O\n",
       "14         !!        O          O\n",
       "15     <user>        O          O\n",
       "16        shs        O          O"
      ]
     },
     "execution_count": 28,
     "metadata": {},
     "output_type": "execute_result"
    }
   ],
   "source": [
    "import pandas as pd\n",
    "display_words, display_tags, dispaly_true = prediction([val_X[0]],[val_Y[0]], False)\n",
    "display = pd.DataFrame({\"Word\" : display_words,\"True\" : dispaly_true, \"Prediction\" : display_tags})\n",
    "display"
   ]
  },
  {
   "cell_type": "markdown",
   "id": "24fb6699-edc7-4941-a5be-66f874f25415",
   "metadata": {},
   "source": [
    "# Write file"
   ]
  },
  {
   "cell_type": "code",
   "execution_count": 29,
   "id": "61b179bd-742f-4927-941a-58b51aeb1315",
   "metadata": {},
   "outputs": [],
   "source": [
    "test_words, test_tags = prediction(test_X, None, True)\n",
    "dev_words, dev_preds, dev_true = prediction(val_X, val_Y, False)"
   ]
  },
  {
   "cell_type": "code",
   "execution_count": 30,
   "id": "bc7fe68c-23ad-42da-ad0a-d1e266c65858",
   "metadata": {},
   "outputs": [],
   "source": [
    "path = 'sol_submit_7.txt'\n",
    "f = open(path, 'w')\n",
    "for word,tag in zip(test_words, test_tags):\n",
    "    f.write(word+\" \"+tag+\"\\n\")\n",
    "f.close()"
   ]
  },
  {
   "cell_type": "code",
   "execution_count": 31,
   "id": "41e2b382-f803-4140-ac3d-d1737f87e59c",
   "metadata": {},
   "outputs": [],
   "source": [
    "path = 'sol_dev_accuracy_7.txt'\n",
    "f = open(path, 'w')\n",
    "for word, tag, pred in zip(dev_words, dev_true, dev_preds):\n",
    "    f.write(word+\" \"+tag+\" \"+pred+\"\\n\")\n",
    "f.close()"
   ]
  },
  {
   "cell_type": "markdown",
   "id": "9befd9c8-69f0-45e3-87cc-b69f9816825d",
   "metadata": {},
   "source": [
    "# Testing accuracy"
   ]
  },
  {
   "cell_type": "code",
   "execution_count": 33,
   "id": "ef900641-2fbb-452b-85e5-3895a417907b",
   "metadata": {},
   "outputs": [
    {
     "name": "stdout",
     "output_type": "stream",
     "text": [
      "processed 16261 tokens with 661 phrases; found: 525 phrases; correct: 140.\n",
      "accuracy:  18.44%; (non-O)\n",
      "accuracy:  93.57%; precision:  26.67%; recall:  21.18%; FB1:  23.61\n",
      "          company: precision:  58.33%; recall:  17.95%; FB1:  27.45  12\n",
      "         facility: precision:  10.00%; recall:   2.63%; FB1:   4.17  10\n",
      "          geo-loc: precision:  31.18%; recall:  50.00%; FB1:  38.41  186\n",
      "            movie: precision:   0.00%; recall:   0.00%; FB1:   0.00  0\n",
      "      musicartist: precision:   0.00%; recall:   0.00%; FB1:   0.00  0\n",
      "            other: precision:  12.99%; recall:   7.58%; FB1:   9.57  77\n",
      "           person: precision:  27.39%; recall:  36.84%; FB1:  31.42  230\n",
      "          product: precision:  10.00%; recall:   2.70%; FB1:   4.26  10\n",
      "       sportsteam: precision:   0.00%; recall:   0.00%; FB1:   0.00  0\n",
      "           tvshow: precision:   0.00%; recall:   0.00%; FB1:   0.00  0\n",
      "\n",
      "processed 16261 tokens with 661 phrases; found: 399 phrases; correct: 109.\n",
      "accuracy:  15.07%; (non-O)\n",
      "accuracy:  93.73%; precision:  27.32%; recall:  16.49%; FB1:  20.57\n",
      "          company: precision:  42.86%; recall:  15.38%; FB1:  22.64  14\n",
      "         facility: precision:   0.00%; recall:   0.00%; FB1:   0.00  0\n",
      "          geo-loc: precision:  31.41%; recall:  42.24%; FB1:  36.03  156\n",
      "            movie: precision:   0.00%; recall:   0.00%; FB1:   0.00  0\n",
      "      musicartist: precision:   0.00%; recall:   0.00%; FB1:   0.00  0\n",
      "            other: precision:  66.67%; recall:   1.52%; FB1:   2.96  3\n",
      "           person: precision:  23.01%; recall:  30.41%; FB1:  26.20  226\n",
      "          product: precision:   0.00%; recall:   0.00%; FB1:   0.00  0\n",
      "       sportsteam: precision:   0.00%; recall:   0.00%; FB1:   0.00  0\n",
      "           tvshow: precision:   0.00%; recall:   0.00%; FB1:   0.00  0\n"
     ]
    }
   ],
   "source": [
    "!python conlleval.py < sol_dev_accuracy_3.txt \n",
    "print()\n",
    "!python conlleval.py < sol_dev_accuracy_7.txt"
   ]
  },
  {
   "cell_type": "code",
   "execution_count": null,
   "id": "b0c324ae-d6c2-4161-890a-d4f8a7561d6b",
   "metadata": {},
   "outputs": [],
   "source": []
  }
 ],
 "metadata": {
  "kernelspec": {
   "display_name": "Python 3 (ipykernel)",
   "language": "python",
   "name": "python3"
  },
  "language_info": {
   "codemirror_mode": {
    "name": "ipython",
    "version": 3
   },
   "file_extension": ".py",
   "mimetype": "text/x-python",
   "name": "python",
   "nbconvert_exporter": "python",
   "pygments_lexer": "ipython3",
   "version": "3.10.6"
  }
 },
 "nbformat": 4,
 "nbformat_minor": 5
}
