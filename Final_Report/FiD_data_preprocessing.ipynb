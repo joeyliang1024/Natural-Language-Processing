{
 "cells": [
  {
   "cell_type": "code",
   "execution_count": 1,
   "id": "b8077eba-6cff-449a-95e0-30193c00aaf3",
   "metadata": {},
   "outputs": [
    {
     "name": "stderr",
     "output_type": "stream",
     "text": [
      "99820it [00:01, 62315.36it/s]\n",
      "13893it [00:00, 58645.98it/s]\n"
     ]
    }
   ],
   "source": [
    "from tqdm import tqdm\n",
    "import re\n",
    "\n",
    "TRAIN_PATH = 'data/train.txt'\n",
    "DEV_PATH = 'data/val.txt'\n",
    "TEST_PATH = 'data/test.txt'\n",
    "\n",
    "def read_data_from_txt(path):\n",
    "    QandA = []\n",
    "    with open(path, 'r', encoding='utf-8') as file:\n",
    "        for line in tqdm(file):\n",
    "            #print(line)\n",
    "            if line != \"\\n\":\n",
    "                splitted = line.split(\"|||\")\n",
    "                sentences = splitted[0]\n",
    "                question  = splitted[1]\n",
    "                answer    = re.sub(\"\\n\",\"\",splitted[2])\n",
    "                answer = r\" \".join(answer.split())\n",
    "                QandA.append((sentences, question, answer))\n",
    "    return QandA\n",
    "\n",
    "train_data = read_data_from_txt(TRAIN_PATH)\n",
    "del train_data[51641] #51641報錯\n",
    "valid_data = read_data_from_txt(DEV_PATH)\n",
    "\n",
    "def convert_to_FiD_dataformat(data):\n",
    "    converted_data = []\n",
    "    pattern = re.compile(r' <s> (.*?) </s> ')   \n",
    "    idx = 0\n",
    "    for context, question, answer in data:\n",
    "        ctxs = []\n",
    "        sentences = pattern.findall(context)\n",
    "        for sentence in sentences:\n",
    "            ctx = {\"title\": answer, \"text\": sentence}\n",
    "            ctxs.append(ctx)\n",
    "        data_dict = {'id': idx,\n",
    "                     'question': question,\n",
    "                     'target': answer,\n",
    "                     'answers': [answer],\n",
    "                     'ctxs': ctxs\n",
    "                    }\n",
    "        converted_data.append(data_dict)\n",
    "        idx+=1\n",
    "    return  converted_data\n",
    "\n",
    "train_data_2 = convert_to_FiD_dataformat(train_data)\n",
    "valid_data_2 = convert_to_FiD_dataformat(valid_data)"
   ]
  },
  {
   "cell_type": "code",
   "execution_count": 2,
   "id": "4c117c54-c3da-4643-80c7-dd750d67f7d8",
   "metadata": {},
   "outputs": [],
   "source": []
  }
 ],
 "metadata": {
  "kernelspec": {
   "display_name": "Python 3 (ipykernel)",
   "language": "python",
   "name": "python3"
  },
  "language_info": {
   "codemirror_mode": {
    "name": "ipython",
    "version": 3
   },
   "file_extension": ".py",
   "mimetype": "text/x-python",
   "name": "python",
   "nbconvert_exporter": "python",
   "pygments_lexer": "ipython3",
   "version": "3.10.6"
  }
 },
 "nbformat": 4,
 "nbformat_minor": 5
}
